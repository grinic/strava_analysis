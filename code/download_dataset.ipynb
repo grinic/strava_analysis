{
 "cells": [
  {
   "cell_type": "code",
   "execution_count": 16,
   "id": "261847f1",
   "metadata": {},
   "outputs": [],
   "source": [
    "import os\n",
    "import requests\n",
    "import urllib3\n",
    "urllib3.disable_warnings(urllib3.exceptions.InsecureRequestWarning)\n",
    "from datetime import date"
   ]
  },
  {
   "cell_type": "markdown",
   "id": "93991ced",
   "metadata": {},
   "source": [
    "# Download data"
   ]
  },
  {
   "cell_type": "code",
   "execution_count": 17,
   "id": "472c4017",
   "metadata": {},
   "outputs": [],
   "source": [
    "auth_url = \"https://www.strava.com/oauth/token\"\n",
    "activites_url = \"https://www.strava.com/api/v3/athlete/activities\""
   ]
  },
  {
   "cell_type": "code",
   "execution_count": 18,
   "id": "73b977d7",
   "metadata": {},
   "outputs": [],
   "source": [
    "payload = {\n",
    "    'client_id': \"104136\",\n",
    "    'client_secret': 'd84d42afe9b3f6922d70c659faac1d96875d6dad',\n",
    "    'refresh_token': '36a5d7075252c21122db9c00e1ef9c032411a549',\n",
    "    'grant_type': \"refresh_token\",\n",
    "    'f': 'json'\n",
    "}"
   ]
  },
  {
   "cell_type": "code",
   "execution_count": 19,
   "id": "37456fd3",
   "metadata": {},
   "outputs": [
    {
     "name": "stdout",
     "output_type": "stream",
     "text": [
      "Requesting Token...\n",
      "\n",
      "Access Token = 962d03610e681a13c1f874940df1f0e225e17831\n",
      "\n"
     ]
    }
   ],
   "source": [
    "print(\"Requesting Token...\\n\")\n",
    "res = requests.post(auth_url, data=payload, verify=False)\n",
    "access_token = res.json()['access_token']\n",
    "print(\"Access Token = {}\\n\".format(access_token))"
   ]
  },
  {
   "cell_type": "code",
   "execution_count": 20,
   "id": "7dff43a0",
   "metadata": {},
   "outputs": [
    {
     "name": "stdout",
     "output_type": "stream",
     "text": [
      "1\n",
      "2\n",
      "3\n",
      "4\n"
     ]
    }
   ],
   "source": [
    "header = {'Authorization': 'Bearer ' + access_token}\n",
    "my_dataset = []\n",
    "\n",
    "page = 1\n",
    "param = {'per_page': 200, 'page': page}\n",
    "data_page = requests.get(activites_url, headers=header, params=param).json()\n",
    "while len(data_page)>0:\n",
    "    print(page)\n",
    "    param = {'per_page': 200, 'page': page}\n",
    "    data_page = requests.get(activites_url, headers=header, params=param).json()\n",
    "    my_dataset += data_page\n",
    "    page += 1\n"
   ]
  },
  {
   "cell_type": "code",
   "execution_count": 21,
   "id": "4387074a",
   "metadata": {},
   "outputs": [
    {
     "name": "stdout",
     "output_type": "stream",
     "text": [
      "Zurich Marató Barcelona\n",
      "430\n"
     ]
    }
   ],
   "source": [
    "print(my_dataset[0][\"name\"])\n",
    "print(len(my_dataset))"
   ]
  },
  {
   "cell_type": "markdown",
   "id": "ee5a018d",
   "metadata": {},
   "source": [
    "# Convert to pandas and save in csv"
   ]
  },
  {
   "cell_type": "code",
   "execution_count": 22,
   "id": "360d4dd9",
   "metadata": {},
   "outputs": [
    {
     "name": "stderr",
     "output_type": "stream",
     "text": [
      "C:\\Users\\nicol\\AppData\\Local\\Temp\\ipykernel_10176\\2102315307.py:3: FutureWarning: pandas.io.json.json_normalize is deprecated, use pandas.json_normalize instead.\n",
      "  activities = json_normalize(my_dataset)\n"
     ]
    }
   ],
   "source": [
    "import pandas as pd\n",
    "from pandas.io.json import json_normalize\n",
    "activities = json_normalize(my_dataset)"
   ]
  },
  {
   "cell_type": "code",
   "execution_count": 23,
   "id": "0cc11273",
   "metadata": {},
   "outputs": [
    {
     "data": {
      "text/plain": [
       "Index(['resource_state', 'name', 'distance', 'moving_time', 'elapsed_time',\n",
       "       'total_elevation_gain', 'type', 'sport_type', 'workout_type', 'id',\n",
       "       'start_date', 'start_date_local', 'timezone', 'utc_offset',\n",
       "       'location_city', 'location_state', 'location_country',\n",
       "       'achievement_count', 'kudos_count', 'comment_count', 'athlete_count',\n",
       "       'photo_count', 'trainer', 'commute', 'manual', 'private', 'visibility',\n",
       "       'flagged', 'gear_id', 'start_latlng', 'end_latlng', 'average_speed',\n",
       "       'max_speed', 'average_cadence', 'average_temp', 'has_heartrate',\n",
       "       'average_heartrate', 'max_heartrate', 'heartrate_opt_out',\n",
       "       'display_hide_heartrate_option', 'elev_high', 'elev_low', 'upload_id',\n",
       "       'upload_id_str', 'external_id', 'from_accepted_tag', 'pr_count',\n",
       "       'total_photo_count', 'has_kudoed', 'suffer_score', 'athlete.id',\n",
       "       'athlete.resource_state', 'map.id', 'map.summary_polyline',\n",
       "       'map.resource_state', 'average_watts', 'kilojoules', 'device_watts'],\n",
       "      dtype='object')"
      ]
     },
     "execution_count": 23,
     "metadata": {},
     "output_type": "execute_result"
    }
   ],
   "source": [
    "activities.keys()"
   ]
  },
  {
   "cell_type": "code",
   "execution_count": 24,
   "id": "fe580f5e",
   "metadata": {},
   "outputs": [
    {
     "data": {
      "text/html": [
       "<div>\n",
       "<style scoped>\n",
       "    .dataframe tbody tr th:only-of-type {\n",
       "        vertical-align: middle;\n",
       "    }\n",
       "\n",
       "    .dataframe tbody tr th {\n",
       "        vertical-align: top;\n",
       "    }\n",
       "\n",
       "    .dataframe thead th {\n",
       "        text-align: right;\n",
       "    }\n",
       "</style>\n",
       "<table border=\"1\" class=\"dataframe\">\n",
       "  <thead>\n",
       "    <tr style=\"text-align: right;\">\n",
       "      <th></th>\n",
       "      <th>resource_state</th>\n",
       "      <th>name</th>\n",
       "      <th>distance</th>\n",
       "      <th>moving_time</th>\n",
       "      <th>elapsed_time</th>\n",
       "      <th>total_elevation_gain</th>\n",
       "      <th>type</th>\n",
       "      <th>sport_type</th>\n",
       "      <th>workout_type</th>\n",
       "      <th>id</th>\n",
       "      <th>...</th>\n",
       "      <th>has_kudoed</th>\n",
       "      <th>suffer_score</th>\n",
       "      <th>athlete.id</th>\n",
       "      <th>athlete.resource_state</th>\n",
       "      <th>map.id</th>\n",
       "      <th>map.summary_polyline</th>\n",
       "      <th>map.resource_state</th>\n",
       "      <th>average_watts</th>\n",
       "      <th>kilojoules</th>\n",
       "      <th>device_watts</th>\n",
       "    </tr>\n",
       "  </thead>\n",
       "  <tbody>\n",
       "    <tr>\n",
       "      <th>0</th>\n",
       "      <td>2</td>\n",
       "      <td>Zurich Marató Barcelona</td>\n",
       "      <td>42626.9</td>\n",
       "      <td>10658</td>\n",
       "      <td>10663</td>\n",
       "      <td>147.0</td>\n",
       "      <td>Run</td>\n",
       "      <td>Run</td>\n",
       "      <td>1.0</td>\n",
       "      <td>8739724557</td>\n",
       "      <td>...</td>\n",
       "      <td>False</td>\n",
       "      <td>407.0</td>\n",
       "      <td>21521933</td>\n",
       "      <td>1</td>\n",
       "      <td>a8739724557</td>\n",
       "      <td>u|o{FkybLs@~BcB`DYrB@zHOrAJpAOjBZvF]jGLxBK~PWr...</td>\n",
       "      <td>2</td>\n",
       "      <td>NaN</td>\n",
       "      <td>NaN</td>\n",
       "      <td>NaN</td>\n",
       "    </tr>\n",
       "    <tr>\n",
       "      <th>1</th>\n",
       "      <td>2</td>\n",
       "      <td>Lunch Run</td>\n",
       "      <td>1079.4</td>\n",
       "      <td>311</td>\n",
       "      <td>311</td>\n",
       "      <td>34.0</td>\n",
       "      <td>Run</td>\n",
       "      <td>Run</td>\n",
       "      <td>0.0</td>\n",
       "      <td>8733560415</td>\n",
       "      <td>...</td>\n",
       "      <td>False</td>\n",
       "      <td>7.0</td>\n",
       "      <td>21521933</td>\n",
       "      <td>1</td>\n",
       "      <td>a8733560415</td>\n",
       "      <td>_lg|F}~bLVh@DTQNs@hAYf@kA`BMZGJKH]v@g@l@Qb@KLW...</td>\n",
       "      <td>2</td>\n",
       "      <td>NaN</td>\n",
       "      <td>NaN</td>\n",
       "      <td>NaN</td>\n",
       "    </tr>\n",
       "    <tr>\n",
       "      <th>2</th>\n",
       "      <td>2</td>\n",
       "      <td>Morning Run</td>\n",
       "      <td>5838.6</td>\n",
       "      <td>1508</td>\n",
       "      <td>1514</td>\n",
       "      <td>27.0</td>\n",
       "      <td>Run</td>\n",
       "      <td>Run</td>\n",
       "      <td>0.0</td>\n",
       "      <td>8733560200</td>\n",
       "      <td>...</td>\n",
       "      <td>False</td>\n",
       "      <td>34.0</td>\n",
       "      <td>21521933</td>\n",
       "      <td>1</td>\n",
       "      <td>a8733560200</td>\n",
       "      <td>o`h|Fe}aLJIn@Un@{@jAqA^s@LOBMTg@COc@i@KUNc@Zg@...</td>\n",
       "      <td>2</td>\n",
       "      <td>NaN</td>\n",
       "      <td>NaN</td>\n",
       "      <td>NaN</td>\n",
       "    </tr>\n",
       "    <tr>\n",
       "      <th>3</th>\n",
       "      <td>2</td>\n",
       "      <td>Morning Run</td>\n",
       "      <td>6639.4</td>\n",
       "      <td>1826</td>\n",
       "      <td>1861</td>\n",
       "      <td>54.0</td>\n",
       "      <td>Run</td>\n",
       "      <td>Run</td>\n",
       "      <td>0.0</td>\n",
       "      <td>8727788722</td>\n",
       "      <td>...</td>\n",
       "      <td>False</td>\n",
       "      <td>41.0</td>\n",
       "      <td>21521933</td>\n",
       "      <td>1</td>\n",
       "      <td>a8727788722</td>\n",
       "      <td>umh|Fox`LLh@Bh@Kp@Af@Gf@Q`@SXQNg@\\m@Z}ArAKPENA...</td>\n",
       "      <td>2</td>\n",
       "      <td>NaN</td>\n",
       "      <td>NaN</td>\n",
       "      <td>NaN</td>\n",
       "    </tr>\n",
       "    <tr>\n",
       "      <th>4</th>\n",
       "      <td>2</td>\n",
       "      <td>Evening Run</td>\n",
       "      <td>8258.3</td>\n",
       "      <td>2101</td>\n",
       "      <td>2146</td>\n",
       "      <td>64.0</td>\n",
       "      <td>Run</td>\n",
       "      <td>Run</td>\n",
       "      <td>NaN</td>\n",
       "      <td>8719918522</td>\n",
       "      <td>...</td>\n",
       "      <td>False</td>\n",
       "      <td>58.0</td>\n",
       "      <td>21521933</td>\n",
       "      <td>1</td>\n",
       "      <td>a8719918522</td>\n",
       "      <td>y_h|Fy|aL\\ULM\\g@`A}@v@{AZYFMZ]Gc@c@e@CQBS|@sA\\...</td>\n",
       "      <td>2</td>\n",
       "      <td>NaN</td>\n",
       "      <td>NaN</td>\n",
       "      <td>NaN</td>\n",
       "    </tr>\n",
       "  </tbody>\n",
       "</table>\n",
       "<p>5 rows × 58 columns</p>\n",
       "</div>"
      ],
      "text/plain": [
       "   resource_state                     name  distance  moving_time  \\\n",
       "0               2  Zurich Marató Barcelona   42626.9        10658   \n",
       "1               2                Lunch Run    1079.4          311   \n",
       "2               2              Morning Run    5838.6         1508   \n",
       "3               2              Morning Run    6639.4         1826   \n",
       "4               2              Evening Run    8258.3         2101   \n",
       "\n",
       "   elapsed_time  total_elevation_gain type sport_type  workout_type  \\\n",
       "0         10663                 147.0  Run        Run           1.0   \n",
       "1           311                  34.0  Run        Run           0.0   \n",
       "2          1514                  27.0  Run        Run           0.0   \n",
       "3          1861                  54.0  Run        Run           0.0   \n",
       "4          2146                  64.0  Run        Run           NaN   \n",
       "\n",
       "           id  ... has_kudoed suffer_score athlete.id  athlete.resource_state  \\\n",
       "0  8739724557  ...      False        407.0   21521933                       1   \n",
       "1  8733560415  ...      False          7.0   21521933                       1   \n",
       "2  8733560200  ...      False         34.0   21521933                       1   \n",
       "3  8727788722  ...      False         41.0   21521933                       1   \n",
       "4  8719918522  ...      False         58.0   21521933                       1   \n",
       "\n",
       "        map.id                               map.summary_polyline  \\\n",
       "0  a8739724557  u|o{FkybLs@~BcB`DYrB@zHOrAJpAOjBZvF]jGLxBK~PWr...   \n",
       "1  a8733560415  _lg|F}~bLVh@DTQNs@hAYf@kA`BMZGJKH]v@g@l@Qb@KLW...   \n",
       "2  a8733560200  o`h|Fe}aLJIn@Un@{@jAqA^s@LOBMTg@COc@i@KUNc@Zg@...   \n",
       "3  a8727788722  umh|Fox`LLh@Bh@Kp@Af@Gf@Q`@SXQNg@\\m@Z}ArAKPENA...   \n",
       "4  a8719918522  y_h|Fy|aL\\ULM\\g@`A}@v@{AZYFMZ]Gc@c@e@CQBS|@sA\\...   \n",
       "\n",
       "  map.resource_state  average_watts  kilojoules  device_watts  \n",
       "0                  2            NaN         NaN           NaN  \n",
       "1                  2            NaN         NaN           NaN  \n",
       "2                  2            NaN         NaN           NaN  \n",
       "3                  2            NaN         NaN           NaN  \n",
       "4                  2            NaN         NaN           NaN  \n",
       "\n",
       "[5 rows x 58 columns]"
      ]
     },
     "execution_count": 24,
     "metadata": {},
     "output_type": "execute_result"
    }
   ],
   "source": [
    "activities.head()"
   ]
  },
  {
   "cell_type": "code",
   "execution_count": 27,
   "id": "5b40efcf",
   "metadata": {},
   "outputs": [],
   "source": [
    "activities.to_csv(os.path.join('..','data','my_dataset_%s.csv'%str(date.today())), index=False)"
   ]
  },
  {
   "cell_type": "code",
   "execution_count": null,
   "id": "48c1157e",
   "metadata": {},
   "outputs": [],
   "source": []
  }
 ],
 "metadata": {
  "kernelspec": {
   "display_name": "Python 3 (ipykernel)",
   "language": "python",
   "name": "python3"
  },
  "language_info": {
   "codemirror_mode": {
    "name": "ipython",
    "version": 3
   },
   "file_extension": ".py",
   "mimetype": "text/x-python",
   "name": "python",
   "nbconvert_exporter": "python",
   "pygments_lexer": "ipython3",
   "version": "3.9.16"
  }
 },
 "nbformat": 4,
 "nbformat_minor": 5
}
